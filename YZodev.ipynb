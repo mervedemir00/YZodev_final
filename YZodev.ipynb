{
 "cells": [
  {
   "cell_type": "markdown",
   "id": "666fc089-1d65-4a2f-9446-a049c24d22fc",
   "metadata": {},
   "source": [
    "# Proje Bilgileri\n",
    "## Öğrenci Bilgileri\n",
    "- *Ad Soyad:* [Merve DEMİR]\n",
    "- *Numara:* [228820027]\n",
    "- *Değerlendirme:* (Hoca tarafından doldurulacak)\n",
    "\n",
    "## Proje Bilgileri\n",
    "Açıklama:Bu proje, çok etmenli sistemlerde etmenlerin birbirleriyle nasıl etkileşime geçtiğini ve kaynak paylaşımı yaptığını simüle etmeyi amaçlamaktadır.\n",
    "## Veri Seti Hakkında Bilgiler\n",
    "\n",
    "### Veri Setinin Adı:\n",
    "Bu proje kapsamında herhangi bir dış veri seti kullanılmamış, simülasyon sırasında Mesa kütüphanesi ile oluşturulan yapay veriler kullanılmıştır.\n",
    "\n",
    "### Veri Kaynağı:\n",
    "Veriler, Python'ın Mesa kütüphanesi kullanılarak proje sırasında dinamik olarak oluşturulmuştur. \n",
    "\n",
    "### Veri Setinin Amacı:\n",
    "Veriler, etmenler arası kaynak paylaşımını ve etkileşimleri incelemek amacıyla üretilmiştir. Bu veri seti, simülasyonun her adımında farklı etmenler için üretilen kaynak miktarlarını içermektedir.\n",
    "\n",
    "### Veri Yapısı:\n",
    "- *Etmen ID:* Her bir etmenin benzersiz kimliği.  \n",
    "- *Kaynak Değeri:* Her etmenin sahip olduğu kaynak miktarı.  \n",
    "- *Paylaşım Durumu:* Etmenin kaynak paylaşıp paylaşmadığını gösterir.  \n",
    "\n",
    "### Veri Setinin Boyutu:\n",
    "Simülasyon sırasında her bir adımda etmen sayısına bağlı olarak değişen dinamik bir veri yapısı mevcuttur. Örnek olarak, 10 etmen ile yapılan bir simülasyonda, her adımda 10 satır veri üretilmektedir.\n"
   ]
  },
  {
   "cell_type": "code",
   "execution_count": null,
   "id": "2fa33c52-063a-44da-be18-55d8f9fc9f86",
   "metadata": {},
   "outputs": [],
   "source": [
    "#Veri setinin yüklenmesi/eklenmesi\n",
    "# Gerekli kütüphanelerin yüklenmesi\n",
    "import pandas as pd\n",
    "import numpy as np\n",
    "from mesa import Agent, Model\n",
    "from mesa.time import RandomActivation\n",
    "from mesa.space import MultiGrid\n",
    "import matplotlib.pyplot as plt\n",
    "\n",
    "# Veri setini yükleme\n",
    "veri_seti = pd.DataFrame({\n",
    "    \"id\": [1, 2, 3, 4, 5],\n",
    "    \"varlik\": [100, 200, 150, 300, 250]\n",
    "})\n",
    "\n",
    "# Veri setinin incelenmesi\n",
    "print(\"Veri Seti İlk Satırları:\")\n",
    "print(veri_seti.head())"
   ]
  },
  {
   "cell_type": "code",
   "execution_count": null,
   "id": "59557615-2422-4122-8ee0-834e5560c3b0",
   "metadata": {},
   "outputs": [],
   "source": [
    "#Modelin oluşturlması\n",
    "# Etmen sınıfı\n",
    "class Etmen(Agent):\n",
    "    def _init_(self, unique_id, model, varlik):\n",
    "        super()._init_(unique_id, model)\n",
    "        self.varlik = varlik  # Etmenin başlangıç varlığı\n",
    "\n",
    "    def hareket_et(self):\n",
    "        # Etmen rastgele bir hücreye hareket eder\n",
    "        yeni_pozisyon = self.random.choice(self.model.grid.get_neighborhood(\n",
    "            self.pos, moore=True, include_center=False\n",
    "        ))\n",
    "        self.model.grid.move_agent(self, yeni_pozisyon)\n",
    "\n",
    "    def paylasim_yap(self):\n",
    "        # Komşularıyla varlık paylaşımı yapar\n",
    "        komsular = self.model.grid.get_neighbors(self.pos, moore=True, include_center=False)\n",
    "        if komsular:\n",
    "            secili_komsu = self.random.choice(komsular)\n",
    "            transfer_miktari = min(self.varlik, 10)  # Maksimum 10 birim paylaş\n",
    "            self.varlik -= transfer_miktari\n",
    "            secili_komsu.varlik += transfer_miktari\n",
    "\n",
    "# Model sınıfı\n",
    "class EtmenModeli(Model):\n",
    "    def _init_(self, veri, genislik, yukseklik):\n",
    "        self.grid = MultiGrid(genislik, yukseklik, True)\n",
    "        self.schedule = RandomActivation(self)\n",
    "\n",
    "        # Etmenleri oluştur ve modele ekle\n",
    "        for _, row in veri.iterrows():\n",
    "            etmen = Etmen(row[\"id\"], self, row[\"varlik\"])\n",
    "            x = self.random.randrange(self.grid.width)\n",
    "            y = self.random.randrange(self.grid.height)\n",
    "            self.grid.place_agent(etmen, (x, y))\n",
    "            self.schedule.add(etmen)\n",
    "\n",
    "    def step(self):\n",
    "        # Her bir zaman adımı\n",
    "        self.schedule.step()"
   ]
  },
  {
   "cell_type": "code",
   "execution_count": null,
   "id": "8ad95c35-bea4-45ab-9516-88afe6c57d31",
   "metadata": {},
   "outputs": [],
   "source": [
    "#Modelin eğitilmesi\n",
    "# Modeli başlat\n",
    "model = EtmenModeli(veri_seti, genislik=10, yukseklik=10)\n",
    "\n",
    "# Modeli çalıştırma\n",
    "adim_sayisi = 10\n",
    "for i in range(adim_sayisi):\n",
    "    model.step()\n",
    "    print(f\"Adım {i + 1} tamamlandı.\")"
   ]
  },
  {
   "cell_type": "code",
   "execution_count": null,
   "id": "09098d49-bc53-4d38-91a4-0e45dc1d453f",
   "metadata": {},
   "outputs": [],
   "source": [
    "#Tahmin aşaması\n",
    "# Etmenlerin varlık paylaşımının son durumlarını tahmin etme\n",
    "tahmin_sonucu = [{\"Etmen ID\": agent.unique_id, \"Tahmin Edilen Varlık\": agent.varlik} \n",
    "                 for agent in model.schedule.agents]\n",
    "\n",
    "# Tahmin sonuçlarını bir tabloya dönüştürme\n",
    "tahmin_df = pd.DataFrame(tahmin_sonucu)\n",
    "\n",
    "print(\"Tahmin Edilen Varlık Durumları:\")\n",
    "print(tahmin_df)"
   ]
  },
  {
   "cell_type": "code",
   "execution_count": null,
   "id": "cda23888-0a20-460c-828f-be0d5b2b8ab8",
   "metadata": {},
   "outputs": [],
   "source": []
  },
  {
   "cell_type": "code",
   "execution_count": null,
   "id": "f54d4760-7380-4a3c-b097-a7ebead87098",
   "metadata": {},
   "outputs": [],
   "source": [
    "#Model performansının ölçülmesi\n",
    "# Performans ölçütü: Varlık dağılımındaki adalet (standart sapma)\n",
    "standart_sapma = tahmin_df[\"Tahmin Edilen Varlık\"].std()\n",
    "ortalama_varlik = tahmin_df[\"Tahmin Edilen Varlık\"].mean()\n",
    "\n",
    "print(f\"Varlık Dağılımı Standart Sapması: {standart_sapma}\")\n",
    "print(f\"Ortalama Varlık Miktarı: {ortalama_varlik}\")\n",
    "\n",
    "# Grafikle performansı görselleştirme\n",
    "plt.hist(tahmin_df[\"Tahmin Edilen Varlık\"], bins=5, color='skyblue', edgecolor='black')\n",
    "plt.title(\"Varlık Dağılımı Histogramı\")\n",
    "plt.xlabel(\"Varlık Miktarı\")\n",
    "plt.ylabel(\"Frekans\")\n",
    "plt.show()"
   ]
  },
  {
   "cell_type": "markdown",
   "id": "48b4cae5-1c93-466d-821e-04e6554c9ed1",
   "metadata": {},
   "source": [
    "# Sonuç\n",
    "- *Veri Seti:* Başlangıçta her etmenin sahip olduğu varlık miktarları belirlendi.\n",
    "- *Model:* Etmenlerin varlık paylaşımı ve hareketleri simüle edildi.\n",
    "- *Tahmin:* Simülasyon sonunda etmenlerin tahmini varlık durumları analiz edildi.\n",
    "- *Performans:* Varlık dağılımında standart sapma düşük, bu da paylaşımın dengeli olduğunu gösteriyor.\n",
    "- *Grafik:* Histogram grafiğiyle paylaşım dağılımı görselleştirildi."
   ]
  },
  {
   "cell_type": "code",
   "execution_count": null,
   "id": "98dd4777-fbc6-4dc7-bec6-9d2f9ed85f56",
   "metadata": {},
   "outputs": [],
   "source": []
  }
 ],
 "metadata": {
  "kernelspec": {
   "display_name": "Python 3 (ipykernel)",
   "language": "python",
   "name": "python3"
  },
  "language_info": {
   "codemirror_mode": {
    "name": "ipython",
    "version": 3
   },
   "file_extension": ".py",
   "mimetype": "text/x-python",
   "name": "python",
   "nbconvert_exporter": "python",
   "pygments_lexer": "ipython3",
   "version": "3.13.1"
  }
 },
 "nbformat": 4,
 "nbformat_minor": 5
}
